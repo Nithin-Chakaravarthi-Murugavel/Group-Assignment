{
  "nbformat": 4,
  "nbformat_minor": 0,
  "metadata": {
    "colab": {
      "provenance": []
    },
    "kernelspec": {
      "name": "python3",
      "display_name": "Python 3"
    },
    "language_info": {
      "name": "python"
    }
  },
  "cells": [
    {
      "cell_type": "markdown",
      "source": [
        "**Import Library**"
      ],
      "metadata": {
        "id": "3CfItRD-wRTU"
      }
    },
    {
      "cell_type": "code",
      "source": [
        "import numpy as np\n",
        "from tensorflow.keras.preprocessing.image import ImageDataGenerator\n",
        "import os\n",
        "from PIL import Image\n",
        "import cv2"
      ],
      "metadata": {
        "id": "cnREbDwWwQSC"
      },
      "execution_count": null,
      "outputs": []
    },
    {
      "cell_type": "code",
      "execution_count": null,
      "metadata": {
        "colab": {
          "base_uri": "https://localhost:8080/"
        },
        "id": "OHTKixIevRXn",
        "outputId": "db45e604-9ef7-4d63-ba66-5e4c66c79fbe"
      },
      "outputs": [
        {
          "output_type": "stream",
          "name": "stdout",
          "text": [
            "Mounted at /content/drive\n"
          ]
        }
      ],
      "source": [
        "from google.colab import drive\n",
        "drive.mount('/content/drive')"
      ]
    },
    {
      "cell_type": "markdown",
      "source": [
        "**Data Gathering and Preprocessing**"
      ],
      "metadata": {
        "id": "ya1JqMDXx08z"
      }
    },
    {
      "cell_type": "code",
      "source": [
        "#create data generator\n",
        "train_datagen = ImageDataGenerator(\n",
        "    rescale=1./255,rotation_range=20,width_shift_range=0.1,\n",
        "    height_shift_range=0.1,zoom_range=0.1,horizontal_flip=True)"
      ],
      "metadata": {
        "id": "nLsQY4-8x-5O"
      },
      "execution_count": null,
      "outputs": []
    },
    {
      "cell_type": "code",
      "source": [
        "# Define the data generator for the validation and test sets\n",
        "val_test_datagen = ImageDataGenerator(rescale=1./255)\n",
        "train_generator = train_datagen.flow_from_directory('/content/drive/MyDrive/Train',\n",
        "                                                    target_size=(64,64),\n",
        "                                                    batch_size=32,\n",
        "                                                    class_mode='binary')\n",
        "validation_generator = val_test_datagen.flow_from_directory('/content/drive/MyDrive/Group_Project_Data/Valid',\n",
        "                                                    target_size=(64,64),\n",
        "                                                    batch_size=32,\n",
        "                                                    class_mode='binary')"
      ],
      "metadata": {
        "id": "1kzO7DQfyj8r",
        "colab": {
          "base_uri": "https://localhost:8080/"
        },
        "outputId": "fc675ef5-9deb-4c1d-d57e-3e3567703acd"
      },
      "execution_count": 19,
      "outputs": [
        {
          "output_type": "stream",
          "name": "stdout",
          "text": [
            "Found 6009 images belonging to 2 classes.\n",
            "Found 2000 images belonging to 2 classes.\n"
          ]
        }
      ]
    }
  ]
}