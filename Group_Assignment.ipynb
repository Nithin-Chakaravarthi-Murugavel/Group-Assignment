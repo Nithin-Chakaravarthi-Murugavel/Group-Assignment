{
  "nbformat": 4,
  "nbformat_minor": 0,
  "metadata": {
    "colab": {
      "provenance": []
    },
    "kernelspec": {
      "name": "python3",
      "display_name": "Python 3"
    },
    "language_info": {
      "name": "python"
    }
  },
  "cells": [
    {
      "cell_type": "markdown",
      "source": [
        "**Import Library**"
      ],
      "metadata": {
        "id": "3CfItRD-wRTU"
      }
    },
    {
      "cell_type": "code",
      "source": [
        "import numpy as np\n",
        "from tensorflow.keras.preprocessing.image import ImageDataGenerator"
      ],
      "metadata": {
        "id": "cnREbDwWwQSC"
      },
      "execution_count": 11,
      "outputs": []
    },
    {
      "cell_type": "code",
      "execution_count": 12,
      "metadata": {
        "colab": {
          "base_uri": "https://localhost:8080/"
        },
        "id": "OHTKixIevRXn",
        "outputId": "59ebc3c9-cdce-446e-c55f-691d77282d37"
      },
      "outputs": [
        {
          "output_type": "stream",
          "name": "stdout",
          "text": [
            "Drive already mounted at /content/drive; to attempt to forcibly remount, call drive.mount(\"/content/drive\", force_remount=True).\n"
          ]
        }
      ],
      "source": [
        "from google.colab import drive\n",
        "drive.mount('/content/drive')"
      ]
    },
    {
      "cell_type": "markdown",
      "source": [
        "**Data Gathering and Preprocessing**"
      ],
      "metadata": {
        "id": "ya1JqMDXx08z"
      }
    },
    {
      "cell_type": "code",
      "source": [
        "#create data generator\n",
        "train_datagen = ImageDataGenerator(\n",
        "    rescale=1./255,rotation_range=20,width_shift_range=0.1,\n",
        "    height_shift_range=0.1,zoom_range=0.1,horizontal_flip=True)"
      ],
      "metadata": {
        "id": "nLsQY4-8x-5O"
      },
      "execution_count": 13,
      "outputs": []
    },
    {
      "cell_type": "code",
      "source": [
        "# Define the data generator for the validation and test sets\n",
        "val_test_datagen = ImageDataGenerator(rescale=1./255)\n",
        "#Fit the model on data\n",
        "train_generator = train_datagen.flow_from_directory('/content/drive/MyDrive/Train',\n",
        "                                                    target_size=(64,64),\n",
        "                                                    batch_size=32,\n",
        "                                                    class_mode='binary')\n",
        "validation_generator = val_test_datagen.flow_from_directory('/content/drive/MyDrive/Valid',\n",
        "                                                    target_size=(64,64),\n",
        "                                                    batch_size=32,\n",
        "                                                    class_mode='binary')"
      ],
      "metadata": {
        "colab": {
          "base_uri": "https://localhost:8080/"
        },
        "id": "1kzO7DQfyj8r",
        "outputId": "9b024fa3-a879-4a1a-b17a-9fb976719360"
      },
      "execution_count": 15,
      "outputs": [
        {
          "output_type": "stream",
          "name": "stdout",
          "text": [
            "Found 6009 images belonging to 2 classes.\n",
            "Found 1000 images belonging to 1 classes.\n"
          ]
        }
      ]
    }
  ]
}