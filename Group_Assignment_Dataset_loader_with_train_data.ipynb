{
  "nbformat": 4,
  "nbformat_minor": 0,
  "metadata": {
    "colab": {
      "provenance": []
    },
    "kernelspec": {
      "name": "python3",
      "display_name": "Python 3"
    },
    "language_info": {
      "name": "python"
    }
  },
  "cells": [
    {
      "cell_type": "markdown",
      "source": [
        "**Import Library**"
      ],
      "metadata": {
        "id": "3CfItRD-wRTU"
      }
    },
    {
      "cell_type": "code",
      "source": [
        "import numpy as np\n",
        "from tensorflow.keras.preprocessing.image import ImageDataGenerator\n",
        "import os\n",
        "from PIL import Image\n",
        "import cv2"
      ],
      "metadata": {
        "id": "cnREbDwWwQSC"
      },
      "execution_count": 2,
      "outputs": []
    },
    {
      "cell_type": "code",
      "execution_count": 3,
      "metadata": {
        "colab": {
          "base_uri": "https://localhost:8080/"
        },
        "id": "OHTKixIevRXn",
        "outputId": "29715700-27c4-4177-c0da-e1e8cece6d2e"
      },
      "outputs": [
        {
          "output_type": "stream",
          "name": "stdout",
          "text": [
            "Drive already mounted at /content/drive; to attempt to forcibly remount, call drive.mount(\"/content/drive\", force_remount=True).\n"
          ]
        }
      ],
      "source": [
        "from google.colab import drive\n",
        "drive.mount('/content/drive')"
      ]
    },
    {
      "cell_type": "markdown",
      "source": [
        "**Data Gathering and Preprocessing**"
      ],
      "metadata": {
        "id": "ya1JqMDXx08z"
      }
    },
    {
      "cell_type": "code",
      "source": [
        "#create data generator\n",
        "train_datagen = ImageDataGenerator(\n",
        "    rescale=1./255,rotation_range=20,width_shift_range=0.1,\n",
        "    height_shift_range=0.1,zoom_range=0.1,horizontal_flip=True)"
      ],
      "metadata": {
        "id": "nLsQY4-8x-5O"
      },
      "execution_count": 4,
      "outputs": []
    },
    {
      "cell_type": "code",
      "source": [
        "# Define the data generator for the validation and test sets\n",
        "val_test_datagen = ImageDataGenerator(rescale=1./255)\n",
        "train_generator = train_datagen.flow_from_directory('/content/drive/MyDrive/Train',\n",
        "                                                    target_size=(64,64),\n",
        "                                                    batch_size=32,\n",
        "                                                    class_mode='binary')\n",
        "validation_generator = val_test_datagen.flow_from_directory('/content/drive/MyDrive/Group_Project_Data/Valid',\n",
        "                                                    target_size=(64,64),\n",
        "                                                    batch_size=32,\n",
        "                                                    class_mode='binary')"
      ],
      "metadata": {
        "id": "1kzO7DQfyj8r",
        "colab": {
          "base_uri": "https://localhost:8080/"
        },
        "outputId": "a43dccbe-3db3-47bd-8d02-c6de86931c92"
      },
      "execution_count": 5,
      "outputs": [
        {
          "output_type": "stream",
          "name": "stdout",
          "text": [
            "Found 6009 images belonging to 2 classes.\n",
            "Found 2000 images belonging to 2 classes.\n"
          ]
        }
      ]
    },
    {
      "cell_type": "code",
      "source": [
        "def Dataset_loader(DIR, RESIZE, sigmaX=10):\n",
        "    IMG = []\n",
        "    read = lambda imname: np.asarray(Image.open(imname).convert(\"RGB\"))\n",
        "    \n",
        "    for root, _, files in os.walk(DIR):\n",
        "        for file in files:\n",
        "            if file.endswith('.png'):\n",
        "                PATH = os.path.join(root,file)\n",
        "\n",
        "                img = read(PATH)\n",
        "\n",
        "                img = cv2.resize(img, (RESIZE,RESIZE))\n",
        "\n",
        "                IMG.append(np.array(img))\n",
        "    return IMG"
      ],
      "metadata": {
        "id": "yqhdnwUuRTKz"
      },
      "execution_count": 6,
      "outputs": []
    },
    {
      "cell_type": "code",
      "source": [
        "real_train = np.array(Dataset_loader('/content/drive/MyDrive/Train/Real',64))\n",
        "fake_train = np.array(Dataset_loader('/content/drive/MyDrive/Train/Fake',64))\n"
      ],
      "metadata": {
        "id": "GYULeb91EtBY"
      },
      "execution_count": 7,
      "outputs": []
    }
  ]
}